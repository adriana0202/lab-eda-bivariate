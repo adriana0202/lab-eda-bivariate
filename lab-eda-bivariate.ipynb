{
 "cells": [
  {
   "cell_type": "code",
   "execution_count": 76,
   "id": "f5c8b5c7",
   "metadata": {},
   "outputs": [],
   "source": [
    "import pandas as pd\n",
    "import matplotlib.pyplot as plt\n",
    "import seaborn as sns\n",
    "import numpy as np\n",
    "\n",
    "%matplotlib inline"
   ]
  },
  {
   "cell_type": "markdown",
   "id": "f46364a3",
   "metadata": {},
   "source": [
    "Part 1: Analyzing Best-Seller Trends Across Product Categories\n",
    "Objective: Understand the relationship between product categories \n",
    "and their best-seller status."
   ]
  },
  {
   "cell_type": "code",
   "execution_count": 77,
   "id": "5c9e6d99",
   "metadata": {},
   "outputs": [],
   "source": [
    "df = pd.read_csv(\"/Users/adrianabrazon/Documents/IronHack/Lessons/week_4/amz_uk_price_prediction_dataset.csv\")"
   ]
  },
  {
   "cell_type": "code",
   "execution_count": 78,
   "id": "01d4063f",
   "metadata": {},
   "outputs": [
    {
     "data": {
      "text/html": [
       "<div>\n",
       "<style scoped>\n",
       "    .dataframe tbody tr th:only-of-type {\n",
       "        vertical-align: middle;\n",
       "    }\n",
       "\n",
       "    .dataframe tbody tr th {\n",
       "        vertical-align: top;\n",
       "    }\n",
       "\n",
       "    .dataframe thead th {\n",
       "        text-align: right;\n",
       "    }\n",
       "</style>\n",
       "<table border=\"1\" class=\"dataframe\">\n",
       "  <thead>\n",
       "    <tr style=\"text-align: right;\">\n",
       "      <th></th>\n",
       "      <th>uid</th>\n",
       "      <th>asin</th>\n",
       "      <th>title</th>\n",
       "      <th>stars</th>\n",
       "      <th>reviews</th>\n",
       "      <th>price</th>\n",
       "      <th>isBestSeller</th>\n",
       "      <th>boughtInLastMonth</th>\n",
       "      <th>category</th>\n",
       "    </tr>\n",
       "  </thead>\n",
       "  <tbody>\n",
       "    <tr>\n",
       "      <th>0</th>\n",
       "      <td>1</td>\n",
       "      <td>B09B96TG33</td>\n",
       "      <td>Echo Dot (5th generation, 2022 release) | Big ...</td>\n",
       "      <td>4.7</td>\n",
       "      <td>15308</td>\n",
       "      <td>21.99</td>\n",
       "      <td>False</td>\n",
       "      <td>0</td>\n",
       "      <td>Hi-Fi Speakers</td>\n",
       "    </tr>\n",
       "    <tr>\n",
       "      <th>1</th>\n",
       "      <td>2</td>\n",
       "      <td>B01HTH3C8S</td>\n",
       "      <td>Anker Soundcore mini, Super-Portable Bluetooth...</td>\n",
       "      <td>4.7</td>\n",
       "      <td>98099</td>\n",
       "      <td>23.99</td>\n",
       "      <td>True</td>\n",
       "      <td>0</td>\n",
       "      <td>Hi-Fi Speakers</td>\n",
       "    </tr>\n",
       "    <tr>\n",
       "      <th>2</th>\n",
       "      <td>3</td>\n",
       "      <td>B09B8YWXDF</td>\n",
       "      <td>Echo Dot (5th generation, 2022 release) | Big ...</td>\n",
       "      <td>4.7</td>\n",
       "      <td>15308</td>\n",
       "      <td>21.99</td>\n",
       "      <td>False</td>\n",
       "      <td>0</td>\n",
       "      <td>Hi-Fi Speakers</td>\n",
       "    </tr>\n",
       "    <tr>\n",
       "      <th>3</th>\n",
       "      <td>4</td>\n",
       "      <td>B09B8T5VGV</td>\n",
       "      <td>Echo Dot with clock (5th generation, 2022 rele...</td>\n",
       "      <td>4.7</td>\n",
       "      <td>7205</td>\n",
       "      <td>31.99</td>\n",
       "      <td>False</td>\n",
       "      <td>0</td>\n",
       "      <td>Hi-Fi Speakers</td>\n",
       "    </tr>\n",
       "    <tr>\n",
       "      <th>4</th>\n",
       "      <td>5</td>\n",
       "      <td>B09WX6QD65</td>\n",
       "      <td>Introducing Echo Pop | Full sound compact Wi-F...</td>\n",
       "      <td>4.6</td>\n",
       "      <td>1881</td>\n",
       "      <td>17.99</td>\n",
       "      <td>False</td>\n",
       "      <td>0</td>\n",
       "      <td>Hi-Fi Speakers</td>\n",
       "    </tr>\n",
       "    <tr>\n",
       "      <th>...</th>\n",
       "      <td>...</td>\n",
       "      <td>...</td>\n",
       "      <td>...</td>\n",
       "      <td>...</td>\n",
       "      <td>...</td>\n",
       "      <td>...</td>\n",
       "      <td>...</td>\n",
       "      <td>...</td>\n",
       "      <td>...</td>\n",
       "    </tr>\n",
       "    <tr>\n",
       "      <th>2443646</th>\n",
       "      <td>2828589</td>\n",
       "      <td>B0CHSD7P2Q</td>\n",
       "      <td>Motorbike Armour, Motorbike Clothing, Cycling ...</td>\n",
       "      <td>0.0</td>\n",
       "      <td>0</td>\n",
       "      <td>22.34</td>\n",
       "      <td>False</td>\n",
       "      <td>0</td>\n",
       "      <td>Motorbike Clothing</td>\n",
       "    </tr>\n",
       "    <tr>\n",
       "      <th>2443647</th>\n",
       "      <td>2828590</td>\n",
       "      <td>B0B7B8FNBQ</td>\n",
       "      <td>PROFIRST Waterproof Motorcycle 2 Piece Ladies ...</td>\n",
       "      <td>0.0</td>\n",
       "      <td>0</td>\n",
       "      <td>97.99</td>\n",
       "      <td>False</td>\n",
       "      <td>0</td>\n",
       "      <td>Motorbike Clothing</td>\n",
       "    </tr>\n",
       "    <tr>\n",
       "      <th>2443648</th>\n",
       "      <td>2828591</td>\n",
       "      <td>B0BD5FL5FB</td>\n",
       "      <td>Men’s Motorcycle Motorbike Biker Trousers Kevl...</td>\n",
       "      <td>0.0</td>\n",
       "      <td>0</td>\n",
       "      <td>52.99</td>\n",
       "      <td>False</td>\n",
       "      <td>0</td>\n",
       "      <td>Motorbike Clothing</td>\n",
       "    </tr>\n",
       "    <tr>\n",
       "      <th>2443649</th>\n",
       "      <td>2828592</td>\n",
       "      <td>B008OYLL4I</td>\n",
       "      <td>Texpeed Mens Motorcycle Motorbike Biker Trouse...</td>\n",
       "      <td>4.3</td>\n",
       "      <td>404</td>\n",
       "      <td>79.99</td>\n",
       "      <td>False</td>\n",
       "      <td>0</td>\n",
       "      <td>Motorbike Clothing</td>\n",
       "    </tr>\n",
       "    <tr>\n",
       "      <th>2443650</th>\n",
       "      <td>2828593</td>\n",
       "      <td>B08P3W9B3T</td>\n",
       "      <td>RIDEX CJ223 Motorcycle Motorbike Jacket Armour...</td>\n",
       "      <td>4.5</td>\n",
       "      <td>34</td>\n",
       "      <td>53.99</td>\n",
       "      <td>False</td>\n",
       "      <td>0</td>\n",
       "      <td>Motorbike Clothing</td>\n",
       "    </tr>\n",
       "  </tbody>\n",
       "</table>\n",
       "<p>2443651 rows × 9 columns</p>\n",
       "</div>"
      ],
      "text/plain": [
       "             uid        asin  \\\n",
       "0              1  B09B96TG33   \n",
       "1              2  B01HTH3C8S   \n",
       "2              3  B09B8YWXDF   \n",
       "3              4  B09B8T5VGV   \n",
       "4              5  B09WX6QD65   \n",
       "...          ...         ...   \n",
       "2443646  2828589  B0CHSD7P2Q   \n",
       "2443647  2828590  B0B7B8FNBQ   \n",
       "2443648  2828591  B0BD5FL5FB   \n",
       "2443649  2828592  B008OYLL4I   \n",
       "2443650  2828593  B08P3W9B3T   \n",
       "\n",
       "                                                     title  stars  reviews  \\\n",
       "0        Echo Dot (5th generation, 2022 release) | Big ...    4.7    15308   \n",
       "1        Anker Soundcore mini, Super-Portable Bluetooth...    4.7    98099   \n",
       "2        Echo Dot (5th generation, 2022 release) | Big ...    4.7    15308   \n",
       "3        Echo Dot with clock (5th generation, 2022 rele...    4.7     7205   \n",
       "4        Introducing Echo Pop | Full sound compact Wi-F...    4.6     1881   \n",
       "...                                                    ...    ...      ...   \n",
       "2443646  Motorbike Armour, Motorbike Clothing, Cycling ...    0.0        0   \n",
       "2443647  PROFIRST Waterproof Motorcycle 2 Piece Ladies ...    0.0        0   \n",
       "2443648  Men’s Motorcycle Motorbike Biker Trousers Kevl...    0.0        0   \n",
       "2443649  Texpeed Mens Motorcycle Motorbike Biker Trouse...    4.3      404   \n",
       "2443650  RIDEX CJ223 Motorcycle Motorbike Jacket Armour...    4.5       34   \n",
       "\n",
       "         price  isBestSeller  boughtInLastMonth            category  \n",
       "0        21.99         False                  0      Hi-Fi Speakers  \n",
       "1        23.99          True                  0      Hi-Fi Speakers  \n",
       "2        21.99         False                  0      Hi-Fi Speakers  \n",
       "3        31.99         False                  0      Hi-Fi Speakers  \n",
       "4        17.99         False                  0      Hi-Fi Speakers  \n",
       "...        ...           ...                ...                 ...  \n",
       "2443646  22.34         False                  0  Motorbike Clothing  \n",
       "2443647  97.99         False                  0  Motorbike Clothing  \n",
       "2443648  52.99         False                  0  Motorbike Clothing  \n",
       "2443649  79.99         False                  0  Motorbike Clothing  \n",
       "2443650  53.99         False                  0  Motorbike Clothing  \n",
       "\n",
       "[2443651 rows x 9 columns]"
      ]
     },
     "execution_count": 78,
     "metadata": {},
     "output_type": "execute_result"
    }
   ],
   "source": [
    "df"
   ]
  },
  {
   "cell_type": "code",
   "execution_count": 79,
   "id": "6634e748",
   "metadata": {},
   "outputs": [
    {
     "data": {
      "text/plain": [
       "0          False\n",
       "1           True\n",
       "2          False\n",
       "3          False\n",
       "4          False\n",
       "           ...  \n",
       "2443646    False\n",
       "2443647    False\n",
       "2443648    False\n",
       "2443649    False\n",
       "2443650    False\n",
       "Name: isBestSeller, Length: 2443651, dtype: bool"
      ]
     },
     "execution_count": 79,
     "metadata": {},
     "output_type": "execute_result"
    }
   ],
   "source": [
    "df['isBestSeller']"
   ]
  },
  {
   "cell_type": "markdown",
   "id": "806d5177",
   "metadata": {},
   "source": [
    "1. Crosstab Analysis:\n",
    "\n",
    "Create a crosstab between the product category and the isBestSeller status.\n",
    "\n",
    "Hint: one option is to calculate the proportion of best-sellers for each category and then sort the \n",
    "categories based on this proportion in descending order. "
   ]
  },
  {
   "cell_type": "code",
   "execution_count": 80,
   "id": "1fb40fd0",
   "metadata": {},
   "outputs": [
    {
     "data": {
      "text/html": [
       "<div>\n",
       "<style scoped>\n",
       "    .dataframe tbody tr th:only-of-type {\n",
       "        vertical-align: middle;\n",
       "    }\n",
       "\n",
       "    .dataframe tbody tr th {\n",
       "        vertical-align: top;\n",
       "    }\n",
       "\n",
       "    .dataframe thead th {\n",
       "        text-align: right;\n",
       "    }\n",
       "</style>\n",
       "<table border=\"1\" class=\"dataframe\">\n",
       "  <thead>\n",
       "    <tr style=\"text-align: right;\">\n",
       "      <th>isBestSeller</th>\n",
       "      <th>False</th>\n",
       "      <th>True</th>\n",
       "    </tr>\n",
       "    <tr>\n",
       "      <th>category</th>\n",
       "      <th></th>\n",
       "      <th></th>\n",
       "    </tr>\n",
       "  </thead>\n",
       "  <tbody>\n",
       "    <tr>\n",
       "      <th>3D Printers</th>\n",
       "      <td>247</td>\n",
       "      <td>1</td>\n",
       "    </tr>\n",
       "    <tr>\n",
       "      <th>3D Printing &amp; Scanning</th>\n",
       "      <td>4065</td>\n",
       "      <td>2</td>\n",
       "    </tr>\n",
       "    <tr>\n",
       "      <th>Abrasive &amp; Finishing Products</th>\n",
       "      <td>245</td>\n",
       "      <td>5</td>\n",
       "    </tr>\n",
       "    <tr>\n",
       "      <th>Action Cameras</th>\n",
       "      <td>1696</td>\n",
       "      <td>1</td>\n",
       "    </tr>\n",
       "    <tr>\n",
       "      <th>Adapters</th>\n",
       "      <td>251</td>\n",
       "      <td>3</td>\n",
       "    </tr>\n",
       "    <tr>\n",
       "      <th>...</th>\n",
       "      <td>...</td>\n",
       "      <td>...</td>\n",
       "    </tr>\n",
       "    <tr>\n",
       "      <th>Wind Instruments</th>\n",
       "      <td>243</td>\n",
       "      <td>7</td>\n",
       "    </tr>\n",
       "    <tr>\n",
       "      <th>Window Treatments</th>\n",
       "      <td>234</td>\n",
       "      <td>5</td>\n",
       "    </tr>\n",
       "    <tr>\n",
       "      <th>Women</th>\n",
       "      <td>17559</td>\n",
       "      <td>213</td>\n",
       "    </tr>\n",
       "    <tr>\n",
       "      <th>Women's Sports &amp; Outdoor Shoes</th>\n",
       "      <td>1939</td>\n",
       "      <td>20</td>\n",
       "    </tr>\n",
       "    <tr>\n",
       "      <th>eBook Readers &amp; Accessories</th>\n",
       "      <td>246</td>\n",
       "      <td>0</td>\n",
       "    </tr>\n",
       "  </tbody>\n",
       "</table>\n",
       "<p>296 rows × 2 columns</p>\n",
       "</div>"
      ],
      "text/plain": [
       "isBestSeller                    False  True \n",
       "category                                    \n",
       "3D Printers                       247      1\n",
       "3D Printing & Scanning           4065      2\n",
       "Abrasive & Finishing Products     245      5\n",
       "Action Cameras                   1696      1\n",
       "Adapters                          251      3\n",
       "...                               ...    ...\n",
       "Wind Instruments                  243      7\n",
       "Window Treatments                 234      5\n",
       "Women                           17559    213\n",
       "Women's Sports & Outdoor Shoes   1939     20\n",
       "eBook Readers & Accessories       246      0\n",
       "\n",
       "[296 rows x 2 columns]"
      ]
     },
     "execution_count": 80,
     "metadata": {},
     "output_type": "execute_result"
    }
   ],
   "source": [
    "crosstab = pd.crosstab(df['category'], df['isBestSeller']) #new DF \n",
    "crosstab"
   ]
  },
  {
   "cell_type": "code",
   "execution_count": 81,
   "id": "b8f49a94",
   "metadata": {},
   "outputs": [
    {
     "name": "stdout",
     "output_type": "stream",
     "text": [
      "Categories with True:\n",
      " category\n",
      "3D Printers                         1\n",
      "3D Printing & Scanning              2\n",
      "Abrasive & Finishing Products       5\n",
      "Action Cameras                      1\n",
      "Adapters                            3\n",
      "                                 ... \n",
      "Wind Instruments                    7\n",
      "Window Treatments                   5\n",
      "Women                             213\n",
      "Women's Sports & Outdoor Shoes     20\n",
      "eBook Readers & Accessories         0\n",
      "Name: True, Length: 296, dtype: int64\n",
      "\n",
      "Categories with False:\n",
      " category\n",
      "3D Printers                         247\n",
      "3D Printing & Scanning             4065\n",
      "Abrasive & Finishing Products       245\n",
      "Action Cameras                     1696\n",
      "Adapters                            251\n",
      "                                  ...  \n",
      "Wind Instruments                    243\n",
      "Window Treatments                   234\n",
      "Women                             17559\n",
      "Women's Sports & Outdoor Shoes     1939\n",
      "eBook Readers & Accessories         246\n",
      "Name: False, Length: 296, dtype: int64\n"
     ]
    }
   ],
   "source": [
    "print('Categories with True:\\n' , crosstab[True])\n",
    "print('\\nCategories with False:\\n',crosstab[False])"
   ]
  },
  {
   "cell_type": "code",
   "execution_count": 82,
   "id": "6bc1461d",
   "metadata": {},
   "outputs": [
    {
     "data": {
      "text/html": [
       "<div>\n",
       "<style scoped>\n",
       "    .dataframe tbody tr th:only-of-type {\n",
       "        vertical-align: middle;\n",
       "    }\n",
       "\n",
       "    .dataframe tbody tr th {\n",
       "        vertical-align: top;\n",
       "    }\n",
       "\n",
       "    .dataframe thead th {\n",
       "        text-align: right;\n",
       "    }\n",
       "</style>\n",
       "<table border=\"1\" class=\"dataframe\">\n",
       "  <thead>\n",
       "    <tr style=\"text-align: right;\">\n",
       "      <th>isBestSeller</th>\n",
       "      <th>False</th>\n",
       "      <th>True</th>\n",
       "      <th>best_s_p</th>\n",
       "    </tr>\n",
       "    <tr>\n",
       "      <th>category</th>\n",
       "      <th></th>\n",
       "      <th></th>\n",
       "      <th></th>\n",
       "    </tr>\n",
       "  </thead>\n",
       "  <tbody>\n",
       "    <tr>\n",
       "      <th>3D Printers</th>\n",
       "      <td>247</td>\n",
       "      <td>1</td>\n",
       "      <td>0.004032</td>\n",
       "    </tr>\n",
       "    <tr>\n",
       "      <th>3D Printing &amp; Scanning</th>\n",
       "      <td>4065</td>\n",
       "      <td>2</td>\n",
       "      <td>0.000492</td>\n",
       "    </tr>\n",
       "    <tr>\n",
       "      <th>Abrasive &amp; Finishing Products</th>\n",
       "      <td>245</td>\n",
       "      <td>5</td>\n",
       "      <td>0.020000</td>\n",
       "    </tr>\n",
       "    <tr>\n",
       "      <th>Action Cameras</th>\n",
       "      <td>1696</td>\n",
       "      <td>1</td>\n",
       "      <td>0.000589</td>\n",
       "    </tr>\n",
       "    <tr>\n",
       "      <th>Adapters</th>\n",
       "      <td>251</td>\n",
       "      <td>3</td>\n",
       "      <td>0.011811</td>\n",
       "    </tr>\n",
       "    <tr>\n",
       "      <th>...</th>\n",
       "      <td>...</td>\n",
       "      <td>...</td>\n",
       "      <td>...</td>\n",
       "    </tr>\n",
       "    <tr>\n",
       "      <th>Wind Instruments</th>\n",
       "      <td>243</td>\n",
       "      <td>7</td>\n",
       "      <td>0.028000</td>\n",
       "    </tr>\n",
       "    <tr>\n",
       "      <th>Window Treatments</th>\n",
       "      <td>234</td>\n",
       "      <td>5</td>\n",
       "      <td>0.020921</td>\n",
       "    </tr>\n",
       "    <tr>\n",
       "      <th>Women</th>\n",
       "      <td>17559</td>\n",
       "      <td>213</td>\n",
       "      <td>0.011985</td>\n",
       "    </tr>\n",
       "    <tr>\n",
       "      <th>Women's Sports &amp; Outdoor Shoes</th>\n",
       "      <td>1939</td>\n",
       "      <td>20</td>\n",
       "      <td>0.010209</td>\n",
       "    </tr>\n",
       "    <tr>\n",
       "      <th>eBook Readers &amp; Accessories</th>\n",
       "      <td>246</td>\n",
       "      <td>0</td>\n",
       "      <td>0.000000</td>\n",
       "    </tr>\n",
       "  </tbody>\n",
       "</table>\n",
       "<p>296 rows × 3 columns</p>\n",
       "</div>"
      ],
      "text/plain": [
       "isBestSeller                    False  True  best_s_p\n",
       "category                                             \n",
       "3D Printers                       247     1  0.004032\n",
       "3D Printing & Scanning           4065     2  0.000492\n",
       "Abrasive & Finishing Products     245     5  0.020000\n",
       "Action Cameras                   1696     1  0.000589\n",
       "Adapters                          251     3  0.011811\n",
       "...                               ...   ...       ...\n",
       "Wind Instruments                  243     7  0.028000\n",
       "Window Treatments                 234     5  0.020921\n",
       "Women                           17559   213  0.011985\n",
       "Women's Sports & Outdoor Shoes   1939    20  0.010209\n",
       "eBook Readers & Accessories       246     0  0.000000\n",
       "\n",
       "[296 rows x 3 columns]"
      ]
     },
     "execution_count": 82,
     "metadata": {},
     "output_type": "execute_result"
    }
   ],
   "source": [
    "crosstab['best_s_p']= crosstab[True]/(crosstab[True]+crosstab[False])\n",
    "crosstab"
   ]
  },
  {
   "cell_type": "code",
   "execution_count": 83,
   "id": "76340e51",
   "metadata": {
    "scrolled": true
   },
   "outputs": [
    {
     "name": "stdout",
     "output_type": "stream",
     "text": [
      "\n",
      "Are there categories where being a best-seller is more prevalent?\n",
      "Grocery, Smart Home Security & Lighting, Health & Personal Care\n"
     ]
    }
   ],
   "source": [
    "print('\\nAre there categories where being a best-seller is more prevalent?') \n",
    "print('Grocery, Smart Home Security & Lighting, Health & Personal Care')"
   ]
  },
  {
   "cell_type": "markdown",
   "id": "fd40de3a",
   "metadata": {},
   "source": [
    "2. Statistical Tests:\n",
    "\n",
    "Conduct a Chi-square test to determine if the best-seller distribution is independent of the product category."
   ]
  },
  {
   "cell_type": "code",
   "execution_count": 176,
   "id": "e80a4f31",
   "metadata": {},
   "outputs": [
    {
     "name": "stdout",
     "output_type": "stream",
     "text": [
      "0.0\n",
      "chi2_p_value=0 , it indicates that the best-seller distribution is completely independent of the product category.\n"
     ]
    }
   ],
   "source": [
    "from scipy.stats import chi2_contingency\n",
    "\n",
    "chi2_statistic, chi2_p_value, _, _ = chi2_contingency(crosstab)\n",
    "\n",
    "chi2_statistic, chi2_p_value \n",
    "\n",
    "print(chi2_p_value)\n",
    "\n",
    "print('chi2_p_value=0 , it indicates that the best-seller distribution is completely independent of the product category.')"
   ]
  },
  {
   "cell_type": "code",
   "execution_count": 173,
   "id": "c3c4fa9c",
   "metadata": {
    "collapsed": true
   },
   "outputs": [
    {
     "data": {
      "text/html": [
       "<div>\n",
       "<style scoped>\n",
       "    .dataframe tbody tr th:only-of-type {\n",
       "        vertical-align: middle;\n",
       "    }\n",
       "\n",
       "    .dataframe tbody tr th {\n",
       "        vertical-align: top;\n",
       "    }\n",
       "\n",
       "    .dataframe thead th {\n",
       "        text-align: right;\n",
       "    }\n",
       "</style>\n",
       "<table border=\"1\" class=\"dataframe\">\n",
       "  <thead>\n",
       "    <tr style=\"text-align: right;\">\n",
       "      <th>isBestSeller</th>\n",
       "      <th>False</th>\n",
       "      <th>True</th>\n",
       "      <th>best_s_p</th>\n",
       "    </tr>\n",
       "    <tr>\n",
       "      <th>category</th>\n",
       "      <th></th>\n",
       "      <th></th>\n",
       "      <th></th>\n",
       "    </tr>\n",
       "  </thead>\n",
       "  <tbody>\n",
       "    <tr>\n",
       "      <th>Grocery</th>\n",
       "      <td>9008</td>\n",
       "      <td>556</td>\n",
       "      <td>0.058135</td>\n",
       "    </tr>\n",
       "    <tr>\n",
       "      <th>Smart Home Security &amp; Lighting</th>\n",
       "      <td>98</td>\n",
       "      <td>6</td>\n",
       "      <td>0.057692</td>\n",
       "    </tr>\n",
       "    <tr>\n",
       "      <th>Health &amp; Personal Care</th>\n",
       "      <td>9017</td>\n",
       "      <td>552</td>\n",
       "      <td>0.057686</td>\n",
       "    </tr>\n",
       "    <tr>\n",
       "      <th>Mobile Phone Accessories</th>\n",
       "      <td>248</td>\n",
       "      <td>11</td>\n",
       "      <td>0.042471</td>\n",
       "    </tr>\n",
       "    <tr>\n",
       "      <th>Power &amp; Hand Tools</th>\n",
       "      <td>8353</td>\n",
       "      <td>306</td>\n",
       "      <td>0.035339</td>\n",
       "    </tr>\n",
       "    <tr>\n",
       "      <th>...</th>\n",
       "      <td>...</td>\n",
       "      <td>...</td>\n",
       "      <td>...</td>\n",
       "    </tr>\n",
       "    <tr>\n",
       "      <th>CD, Disc &amp; Tape Players</th>\n",
       "      <td>8798</td>\n",
       "      <td>0</td>\n",
       "      <td>0.000000</td>\n",
       "    </tr>\n",
       "    <tr>\n",
       "      <th>General Music-Making Accessories</th>\n",
       "      <td>259</td>\n",
       "      <td>0</td>\n",
       "      <td>0.000000</td>\n",
       "    </tr>\n",
       "    <tr>\n",
       "      <th>Snowboard Boots</th>\n",
       "      <td>1449</td>\n",
       "      <td>0</td>\n",
       "      <td>0.000000</td>\n",
       "    </tr>\n",
       "    <tr>\n",
       "      <th>Boxes &amp; Organisers</th>\n",
       "      <td>911</td>\n",
       "      <td>0</td>\n",
       "      <td>0.000000</td>\n",
       "    </tr>\n",
       "    <tr>\n",
       "      <th>eBook Readers &amp; Accessories</th>\n",
       "      <td>246</td>\n",
       "      <td>0</td>\n",
       "      <td>0.000000</td>\n",
       "    </tr>\n",
       "  </tbody>\n",
       "</table>\n",
       "<p>296 rows × 3 columns</p>\n",
       "</div>"
      ],
      "text/plain": [
       "isBestSeller                      False  True  best_s_p\n",
       "category                                               \n",
       "Grocery                            9008   556  0.058135\n",
       "Smart Home Security & Lighting       98     6  0.057692\n",
       "Health & Personal Care             9017   552  0.057686\n",
       "Mobile Phone Accessories            248    11  0.042471\n",
       "Power & Hand Tools                 8353   306  0.035339\n",
       "...                                 ...   ...       ...\n",
       "CD, Disc & Tape Players            8798     0  0.000000\n",
       "General Music-Making Accessories    259     0  0.000000\n",
       "Snowboard Boots                    1449     0  0.000000\n",
       "Boxes & Organisers                  911     0  0.000000\n",
       "eBook Readers & Accessories         246     0  0.000000\n",
       "\n",
       "[296 rows x 3 columns]"
      ]
     },
     "execution_count": 173,
     "metadata": {},
     "output_type": "execute_result"
    }
   ],
   "source": [
    "crosstab.sort_values('best_s_p', ascending=False)"
   ]
  },
  {
   "cell_type": "markdown",
   "id": "7e58def0",
   "metadata": {},
   "source": [
    "Compute Cramér's V to understand the strength of association between best-seller status and category.\n",
    "\n",
    "Computing the association between variables in 'crosstab_result' using the \"cramer\" method"
   ]
  },
  {
   "cell_type": "code",
   "execution_count": 172,
   "id": "599deb39",
   "metadata": {
    "collapsed": true
   },
   "outputs": [
    {
     "ename": "ValueError",
     "evalue": "`observed` must be an integer array.",
     "output_type": "error",
     "traceback": [
      "\u001b[0;31m---------------------------------------------------------------------------\u001b[0m",
      "\u001b[0;31mValueError\u001b[0m                                Traceback (most recent call last)",
      "Cell \u001b[0;32mIn[172], line 7\u001b[0m\n\u001b[1;32m      1\u001b[0m \u001b[38;5;28;01mfrom\u001b[39;00m \u001b[38;5;21;01mscipy\u001b[39;00m\u001b[38;5;21;01m.\u001b[39;00m\u001b[38;5;21;01mstats\u001b[39;00m\u001b[38;5;21;01m.\u001b[39;00m\u001b[38;5;21;01mcontingency\u001b[39;00m \u001b[38;5;28;01mimport\u001b[39;00m association\n\u001b[1;32m      3\u001b[0m \u001b[38;5;66;03m# Compute Cramér's V to understand the strength of association between best-seller status and category.\u001b[39;00m\n\u001b[1;32m      4\u001b[0m \n\u001b[1;32m      5\u001b[0m \u001b[38;5;66;03m# Computing the association between variables in 'crosstab_result' using the \"cramer\" method\u001b[39;00m\n\u001b[0;32m----> 7\u001b[0m association(crosstab, method\u001b[38;5;241m=\u001b[39m\u001b[38;5;124m\"\u001b[39m\u001b[38;5;124mcramer\u001b[39m\u001b[38;5;124m\"\u001b[39m)\n",
      "File \u001b[0;32m~/anaconda3/lib/python3.11/site-packages/scipy/stats/contingency.py:448\u001b[0m, in \u001b[0;36massociation\u001b[0;34m(observed, method, correction, lambda_)\u001b[0m\n\u001b[1;32m    446\u001b[0m arr \u001b[38;5;241m=\u001b[39m np\u001b[38;5;241m.\u001b[39masarray(observed)\n\u001b[1;32m    447\u001b[0m \u001b[38;5;28;01mif\u001b[39;00m \u001b[38;5;129;01mnot\u001b[39;00m np\u001b[38;5;241m.\u001b[39missubdtype(arr\u001b[38;5;241m.\u001b[39mdtype, np\u001b[38;5;241m.\u001b[39minteger):\n\u001b[0;32m--> 448\u001b[0m     \u001b[38;5;28;01mraise\u001b[39;00m \u001b[38;5;167;01mValueError\u001b[39;00m(\u001b[38;5;124m\"\u001b[39m\u001b[38;5;124m`observed` must be an integer array.\u001b[39m\u001b[38;5;124m\"\u001b[39m)\n\u001b[1;32m    450\u001b[0m \u001b[38;5;28;01mif\u001b[39;00m \u001b[38;5;28mlen\u001b[39m(arr\u001b[38;5;241m.\u001b[39mshape) \u001b[38;5;241m!=\u001b[39m \u001b[38;5;241m2\u001b[39m:\n\u001b[1;32m    451\u001b[0m     \u001b[38;5;28;01mraise\u001b[39;00m \u001b[38;5;167;01mValueError\u001b[39;00m(\u001b[38;5;124m\"\u001b[39m\u001b[38;5;124mmethod only accepts 2d arrays\u001b[39m\u001b[38;5;124m\"\u001b[39m)\n",
      "\u001b[0;31mValueError\u001b[0m: `observed` must be an integer array."
     ]
    }
   ],
   "source": [
    "from scipy.stats.contingency import association\n",
    "\n",
    "association(crosstab, method=\"cramer\") # 0.12 indicates a weak associastion between the two variables"
   ]
  },
  {
   "cell_type": "markdown",
   "id": "4a1be125",
   "metadata": {},
   "source": [
    "3. Visualizations:\n",
    "\n",
    "Visualize the relationship between product categories and the best-seller status using a stacked bar chart.\n",
    "\n",
    "Plotting a stacked bar chart for the 'crosstab' data"
   ]
  },
  {
   "cell_type": "code",
   "execution_count": 92,
   "id": "30836e12",
   "metadata": {},
   "outputs": [
    {
     "data": {
      "text/plain": [
       "<Axes: xlabel='category'>"
      ]
     },
     "execution_count": 92,
     "metadata": {},
     "output_type": "execute_result"
    },
    {
     "data": {
      "image/png": "[encoded data removed]",
      "text/plain": [
       "<Figure size 640x480 with 1 Axes>"
      ]
     },
     "metadata": {},
     "output_type": "display_data"
    }
   ],
   "source": [
    "crosstab\n",
    "\n",
    "crosstab1=crosstab[crosstab['best_s_p']>0.05]\n",
    "crosstab1\n",
    "\n",
    "crosstab1.plot(kind=\"bar\", stacked=True)"
   ]
  },
  {
   "cell_type": "markdown",
   "id": "56243f64",
   "metadata": {},
   "source": [
    "Part 2: Exploring Product Prices and Ratings Across Categories and Brands\n",
    "Objective: Investigate how different product categories influence product prices.\n",
    "\n",
    "Preliminary Step: Remove outliers in product prices.\n",
    "\n",
    "For this purpose, we can use the IQR (Interquartile Range) method. Products priced below the first\n",
    "quartile minus 1.5 times the IQR or above the third quartile plus 1.5 times the IQR will be considered outliers \n",
    "and removed from the dataset. The next steps will be done with the dataframe without outliers.\n",
    "\n",
    "Hint: you can check the last Check For Understanding at the end of the lesson EDA Bivariate Analysis \n",
    "    for a hint on how to do this."
   ]
  },
  {
   "cell_type": "code",
   "execution_count": 93,
   "id": "bbbd7be2",
   "metadata": {},
   "outputs": [],
   "source": [
    "def tukeys_test_outliers(data):\n",
    "    Q1 = data.quantile(0.25)\n",
    "    Q3 = data.quantile(0.75)\n",
    "    IQR = Q3 - Q1\n",
    "    \n",
    "    # Define bounds for the outliers\n",
    "    lower_bound = Q1 - 1.5 * IQR\n",
    "    upper_bound = Q3 + 1.5 * IQR\n",
    "    \n",
    "    # Identify the outliers\n",
    "    outliers = data[(data < lower_bound) | (data > upper_bound)]\n",
    "    \n",
    "    return outliers"
   ]
  },
  {
   "cell_type": "code",
   "execution_count": 189,
   "id": "a516fc4b",
   "metadata": {},
   "outputs": [
    {
     "data": {
      "text/plain": [
       "pandas.core.series.Series"
      ]
     },
     "execution_count": 189,
     "metadata": {},
     "output_type": "execute_result"
    }
   ],
   "source": [
    "data_series = df['price']  # replace 'ColumnName' with your specific column\n",
    "outliers = tukeys_test_outliers(data_series)\n",
    "print(outliers)"
   ]
  },
  {
   "cell_type": "code",
   "execution_count": 164,
   "id": "2ec011cf",
   "metadata": {
    "collapsed": true
   },
   "outputs": [
    {
     "data": {
      "text/html": [
       "<div>\n",
       "<style scoped>\n",
       "    .dataframe tbody tr th:only-of-type {\n",
       "        vertical-align: middle;\n",
       "    }\n",
       "\n",
       "    .dataframe tbody tr th {\n",
       "        vertical-align: top;\n",
       "    }\n",
       "\n",
       "    .dataframe thead th {\n",
       "        text-align: right;\n",
       "    }\n",
       "</style>\n",
       "<table border=\"1\" class=\"dataframe\">\n",
       "  <thead>\n",
       "    <tr style=\"text-align: right;\">\n",
       "      <th></th>\n",
       "      <th>uid</th>\n",
       "      <th>asin</th>\n",
       "      <th>title</th>\n",
       "      <th>stars</th>\n",
       "      <th>reviews</th>\n",
       "      <th>price</th>\n",
       "      <th>isBestSeller</th>\n",
       "      <th>boughtInLastMonth</th>\n",
       "      <th>category</th>\n",
       "    </tr>\n",
       "  </thead>\n",
       "  <tbody>\n",
       "    <tr>\n",
       "      <th>0</th>\n",
       "      <td>1</td>\n",
       "      <td>B09B96TG33</td>\n",
       "      <td>Echo Dot (5th generation, 2022 release) | Big ...</td>\n",
       "      <td>4.7</td>\n",
       "      <td>15308</td>\n",
       "      <td>21.99</td>\n",
       "      <td>False</td>\n",
       "      <td>0</td>\n",
       "      <td>Hi-Fi Speakers</td>\n",
       "    </tr>\n",
       "    <tr>\n",
       "      <th>1</th>\n",
       "      <td>2</td>\n",
       "      <td>B01HTH3C8S</td>\n",
       "      <td>Anker Soundcore mini, Super-Portable Bluetooth...</td>\n",
       "      <td>4.7</td>\n",
       "      <td>98099</td>\n",
       "      <td>23.99</td>\n",
       "      <td>True</td>\n",
       "      <td>0</td>\n",
       "      <td>Hi-Fi Speakers</td>\n",
       "    </tr>\n",
       "    <tr>\n",
       "      <th>2</th>\n",
       "      <td>3</td>\n",
       "      <td>B09B8YWXDF</td>\n",
       "      <td>Echo Dot (5th generation, 2022 release) | Big ...</td>\n",
       "      <td>4.7</td>\n",
       "      <td>15308</td>\n",
       "      <td>21.99</td>\n",
       "      <td>False</td>\n",
       "      <td>0</td>\n",
       "      <td>Hi-Fi Speakers</td>\n",
       "    </tr>\n",
       "    <tr>\n",
       "      <th>3</th>\n",
       "      <td>4</td>\n",
       "      <td>B09B8T5VGV</td>\n",
       "      <td>Echo Dot with clock (5th generation, 2022 rele...</td>\n",
       "      <td>4.7</td>\n",
       "      <td>7205</td>\n",
       "      <td>31.99</td>\n",
       "      <td>False</td>\n",
       "      <td>0</td>\n",
       "      <td>Hi-Fi Speakers</td>\n",
       "    </tr>\n",
       "    <tr>\n",
       "      <th>4</th>\n",
       "      <td>5</td>\n",
       "      <td>B09WX6QD65</td>\n",
       "      <td>Introducing Echo Pop | Full sound compact Wi-F...</td>\n",
       "      <td>4.6</td>\n",
       "      <td>1881</td>\n",
       "      <td>17.99</td>\n",
       "      <td>False</td>\n",
       "      <td>0</td>\n",
       "      <td>Hi-Fi Speakers</td>\n",
       "    </tr>\n",
       "    <tr>\n",
       "      <th>...</th>\n",
       "      <td>...</td>\n",
       "      <td>...</td>\n",
       "      <td>...</td>\n",
       "      <td>...</td>\n",
       "      <td>...</td>\n",
       "      <td>...</td>\n",
       "      <td>...</td>\n",
       "      <td>...</td>\n",
       "      <td>...</td>\n",
       "    </tr>\n",
       "    <tr>\n",
       "      <th>2443646</th>\n",
       "      <td>2828589</td>\n",
       "      <td>B0CHSD7P2Q</td>\n",
       "      <td>Motorbike Armour, Motorbike Clothing, Cycling ...</td>\n",
       "      <td>0.0</td>\n",
       "      <td>0</td>\n",
       "      <td>22.34</td>\n",
       "      <td>False</td>\n",
       "      <td>0</td>\n",
       "      <td>Motorbike Clothing</td>\n",
       "    </tr>\n",
       "    <tr>\n",
       "      <th>2443647</th>\n",
       "      <td>2828590</td>\n",
       "      <td>B0B7B8FNBQ</td>\n",
       "      <td>PROFIRST Waterproof Motorcycle 2 Piece Ladies ...</td>\n",
       "      <td>0.0</td>\n",
       "      <td>0</td>\n",
       "      <td>97.99</td>\n",
       "      <td>False</td>\n",
       "      <td>0</td>\n",
       "      <td>Motorbike Clothing</td>\n",
       "    </tr>\n",
       "    <tr>\n",
       "      <th>2443648</th>\n",
       "      <td>2828591</td>\n",
       "      <td>B0BD5FL5FB</td>\n",
       "      <td>Men’s Motorcycle Motorbike Biker Trousers Kevl...</td>\n",
       "      <td>0.0</td>\n",
       "      <td>0</td>\n",
       "      <td>52.99</td>\n",
       "      <td>False</td>\n",
       "      <td>0</td>\n",
       "      <td>Motorbike Clothing</td>\n",
       "    </tr>\n",
       "    <tr>\n",
       "      <th>2443649</th>\n",
       "      <td>2828592</td>\n",
       "      <td>B008OYLL4I</td>\n",
       "      <td>Texpeed Mens Motorcycle Motorbike Biker Trouse...</td>\n",
       "      <td>4.3</td>\n",
       "      <td>404</td>\n",
       "      <td>79.99</td>\n",
       "      <td>False</td>\n",
       "      <td>0</td>\n",
       "      <td>Motorbike Clothing</td>\n",
       "    </tr>\n",
       "    <tr>\n",
       "      <th>2443650</th>\n",
       "      <td>2828593</td>\n",
       "      <td>B08P3W9B3T</td>\n",
       "      <td>RIDEX CJ223 Motorcycle Motorbike Jacket Armour...</td>\n",
       "      <td>4.5</td>\n",
       "      <td>34</td>\n",
       "      <td>53.99</td>\n",
       "      <td>False</td>\n",
       "      <td>0</td>\n",
       "      <td>Motorbike Clothing</td>\n",
       "    </tr>\n",
       "  </tbody>\n",
       "</table>\n",
       "<p>2115963 rows × 9 columns</p>\n",
       "</div>"
      ],
      "text/plain": [
       "             uid        asin  \\\n",
       "0              1  B09B96TG33   \n",
       "1              2  B01HTH3C8S   \n",
       "2              3  B09B8YWXDF   \n",
       "3              4  B09B8T5VGV   \n",
       "4              5  B09WX6QD65   \n",
       "...          ...         ...   \n",
       "2443646  2828589  B0CHSD7P2Q   \n",
       "2443647  2828590  B0B7B8FNBQ   \n",
       "2443648  2828591  B0BD5FL5FB   \n",
       "2443649  2828592  B008OYLL4I   \n",
       "2443650  2828593  B08P3W9B3T   \n",
       "\n",
       "                                                     title  stars  reviews  \\\n",
       "0        Echo Dot (5th generation, 2022 release) | Big ...    4.7    15308   \n",
       "1        Anker Soundcore mini, Super-Portable Bluetooth...    4.7    98099   \n",
       "2        Echo Dot (5th generation, 2022 release) | Big ...    4.7    15308   \n",
       "3        Echo Dot with clock (5th generation, 2022 rele...    4.7     7205   \n",
       "4        Introducing Echo Pop | Full sound compact Wi-F...    4.6     1881   \n",
       "...                                                    ...    ...      ...   \n",
       "2443646  Motorbike Armour, Motorbike Clothing, Cycling ...    0.0        0   \n",
       "2443647  PROFIRST Waterproof Motorcycle 2 Piece Ladies ...    0.0        0   \n",
       "2443648  Men’s Motorcycle Motorbike Biker Trousers Kevl...    0.0        0   \n",
       "2443649  Texpeed Mens Motorcycle Motorbike Biker Trouse...    4.3      404   \n",
       "2443650  RIDEX CJ223 Motorcycle Motorbike Jacket Armour...    4.5       34   \n",
       "\n",
       "         price  isBestSeller  boughtInLastMonth            category  \n",
       "0        21.99         False                  0      Hi-Fi Speakers  \n",
       "1        23.99          True                  0      Hi-Fi Speakers  \n",
       "2        21.99         False                  0      Hi-Fi Speakers  \n",
       "3        31.99         False                  0      Hi-Fi Speakers  \n",
       "4        17.99         False                  0      Hi-Fi Speakers  \n",
       "...        ...           ...                ...                 ...  \n",
       "2443646  22.34         False                  0  Motorbike Clothing  \n",
       "2443647  97.99         False                  0  Motorbike Clothing  \n",
       "2443648  52.99         False                  0  Motorbike Clothing  \n",
       "2443649  79.99         False                  0  Motorbike Clothing  \n",
       "2443650  53.99         False                  0  Motorbike Clothing  \n",
       "\n",
       "[2115963 rows x 9 columns]"
      ]
     },
     "execution_count": 164,
     "metadata": {},
     "output_type": "execute_result"
    }
   ],
   "source": [
    "df1=df[~df['price'].isin(outliers)] #filter out outliers series from dataframe\n",
    "df1"
   ]
  },
  {
   "cell_type": "markdown",
   "id": "92e7342e",
   "metadata": {},
   "source": [
    "Violin Plots:\n",
    "\n",
    "Use a violin plot to visualize the distribution of price across different product categories. Filter out the top 20 categories based on count for better visualization.\n",
    "Which product category tends to have the highest median price? Don't filter here by top categories."
   ]
  },
  {
   "cell_type": "code",
   "execution_count": 165,
   "id": "34f055cd",
   "metadata": {},
   "outputs": [
    {
     "data": {
      "text/plain": [
       "category\n",
       "Sports & Outdoors                         694092\n",
       "Beauty                                     19233\n",
       "Bath & Body                                19050\n",
       "Manicure & Pedicure Products               18904\n",
       "Handmade Clothing, Shoes & Accessories     18811\n",
       "Make-up                                    18718\n",
       "Skin Care                                  18686\n",
       "Hair Care                                  18625\n",
       "Birthday Gifts                             18398\n",
       "Handmade Gifts                             17948\n",
       "Handmade Home Décor                        17675\n",
       "Luggage and travel gear                    17557\n",
       "Women                                      17476\n",
       "Fragrances                                 17431\n",
       "Handmade Kitchen & Dining                  17346\n",
       "Handmade Artwork                           17269\n",
       "Handmade Home & Kitchen Products           17175\n",
       "Handmade Jewellery                         17135\n",
       "Men                                        16596\n",
       "Baby                                       14883\n",
       "Name: count, dtype: int64"
      ]
     },
     "execution_count": 165,
     "metadata": {},
     "output_type": "execute_result"
    }
   ],
   "source": [
    "filter_top20=df1['category'].value_counts().sort_values(ascending=False).head(20)\n",
    "filter_top20 "
   ]
  },
  {
   "cell_type": "code",
   "execution_count": 168,
   "id": "3401c456",
   "metadata": {
    "collapsed": true
   },
   "outputs": [
    {
     "data": {
      "text/html": [
       "<div>\n",
       "<style scoped>\n",
       "    .dataframe tbody tr th:only-of-type {\n",
       "        vertical-align: middle;\n",
       "    }\n",
       "\n",
       "    .dataframe tbody tr th {\n",
       "        vertical-align: top;\n",
       "    }\n",
       "\n",
       "    .dataframe thead th {\n",
       "        text-align: right;\n",
       "    }\n",
       "</style>\n",
       "<table border=\"1\" class=\"dataframe\">\n",
       "  <thead>\n",
       "    <tr style=\"text-align: right;\">\n",
       "      <th></th>\n",
       "      <th>uid</th>\n",
       "      <th>asin</th>\n",
       "      <th>title</th>\n",
       "      <th>stars</th>\n",
       "      <th>reviews</th>\n",
       "      <th>price</th>\n",
       "      <th>isBestSeller</th>\n",
       "      <th>boughtInLastMonth</th>\n",
       "      <th>category</th>\n",
       "    </tr>\n",
       "  </thead>\n",
       "  <tbody>\n",
       "    <tr>\n",
       "      <th>19513</th>\n",
       "      <td>21072</td>\n",
       "      <td>B09477KHQ3</td>\n",
       "      <td>Personalised Birthday Print Gift \"THE YEAR YOU...</td>\n",
       "      <td>4.5</td>\n",
       "      <td>763</td>\n",
       "      <td>7.99</td>\n",
       "      <td>False</td>\n",
       "      <td>900</td>\n",
       "      <td>Handmade Home &amp; Kitchen Products</td>\n",
       "    </tr>\n",
       "    <tr>\n",
       "      <th>19514</th>\n",
       "      <td>21073</td>\n",
       "      <td>B0BSRFQYG8</td>\n",
       "      <td>Wax Melts 4 Bars | Build Your Own Box (Choose ...</td>\n",
       "      <td>3.9</td>\n",
       "      <td>117</td>\n",
       "      <td>6.49</td>\n",
       "      <td>True</td>\n",
       "      <td>800</td>\n",
       "      <td>Handmade Home &amp; Kitchen Products</td>\n",
       "    </tr>\n",
       "    <tr>\n",
       "      <th>19515</th>\n",
       "      <td>21074</td>\n",
       "      <td>B09N9GVHV9</td>\n",
       "      <td>Personalised Birthday Print Gift \"ON THE DAY/Y...</td>\n",
       "      <td>4.6</td>\n",
       "      <td>1155</td>\n",
       "      <td>8.99</td>\n",
       "      <td>True</td>\n",
       "      <td>600</td>\n",
       "      <td>Handmade Home &amp; Kitchen Products</td>\n",
       "    </tr>\n",
       "    <tr>\n",
       "      <th>19516</th>\n",
       "      <td>21075</td>\n",
       "      <td>B0BRYGV7PQ</td>\n",
       "      <td>Fresh Wax Melts - Laundry Type Wax Melts - Str...</td>\n",
       "      <td>4.5</td>\n",
       "      <td>56</td>\n",
       "      <td>4.99</td>\n",
       "      <td>True</td>\n",
       "      <td>500</td>\n",
       "      <td>Handmade Home &amp; Kitchen Products</td>\n",
       "    </tr>\n",
       "    <tr>\n",
       "      <th>19517</th>\n",
       "      <td>21076</td>\n",
       "      <td>B0B1JHB28R</td>\n",
       "      <td>Manta Makes Work Leaving Gifts | I Used to Wor...</td>\n",
       "      <td>4.7</td>\n",
       "      <td>261</td>\n",
       "      <td>9.95</td>\n",
       "      <td>True</td>\n",
       "      <td>400</td>\n",
       "      <td>Handmade Home &amp; Kitchen Products</td>\n",
       "    </tr>\n",
       "    <tr>\n",
       "      <th>...</th>\n",
       "      <td>...</td>\n",
       "      <td>...</td>\n",
       "      <td>...</td>\n",
       "      <td>...</td>\n",
       "      <td>...</td>\n",
       "      <td>...</td>\n",
       "      <td>...</td>\n",
       "      <td>...</td>\n",
       "      <td>...</td>\n",
       "    </tr>\n",
       "    <tr>\n",
       "      <th>2429088</th>\n",
       "      <td>2806950</td>\n",
       "      <td>B0045I6SHW</td>\n",
       "      <td>Cannondale Men's Bibshort Dart Team Bike Shorts</td>\n",
       "      <td>0.0</td>\n",
       "      <td>0</td>\n",
       "      <td>99.67</td>\n",
       "      <td>False</td>\n",
       "      <td>0</td>\n",
       "      <td>Sports &amp; Outdoors</td>\n",
       "    </tr>\n",
       "    <tr>\n",
       "      <th>2429089</th>\n",
       "      <td>2806951</td>\n",
       "      <td>B0045I6NZY</td>\n",
       "      <td>Cannondale Men's Baggy Fitness Bike Shorts</td>\n",
       "      <td>0.0</td>\n",
       "      <td>0</td>\n",
       "      <td>20.62</td>\n",
       "      <td>False</td>\n",
       "      <td>0</td>\n",
       "      <td>Sports &amp; Outdoors</td>\n",
       "    </tr>\n",
       "    <tr>\n",
       "      <th>2429090</th>\n",
       "      <td>2806952</td>\n",
       "      <td>B003BLON3A</td>\n",
       "      <td>Pearl iZUMi Men's Phase Splice Knicker</td>\n",
       "      <td>4.3</td>\n",
       "      <td>3</td>\n",
       "      <td>59.86</td>\n",
       "      <td>False</td>\n",
       "      <td>0</td>\n",
       "      <td>Sports &amp; Outdoors</td>\n",
       "    </tr>\n",
       "    <tr>\n",
       "      <th>2437153</th>\n",
       "      <td>2818782</td>\n",
       "      <td>B091HG57TP</td>\n",
       "      <td>Goodstoworld Boys Girls Tracksuit Bottoms 3D S...</td>\n",
       "      <td>4.2</td>\n",
       "      <td>554</td>\n",
       "      <td>14.99</td>\n",
       "      <td>False</td>\n",
       "      <td>0</td>\n",
       "      <td>Sports &amp; Outdoors</td>\n",
       "    </tr>\n",
       "    <tr>\n",
       "      <th>2437154</th>\n",
       "      <td>2818786</td>\n",
       "      <td>B09F8TFQDM</td>\n",
       "      <td>AIEOE Unisex Baby Snow Trousers Boys Girls Dow...</td>\n",
       "      <td>5.0</td>\n",
       "      <td>1</td>\n",
       "      <td>24.99</td>\n",
       "      <td>False</td>\n",
       "      <td>0</td>\n",
       "      <td>Sports &amp; Outdoors</td>\n",
       "    </tr>\n",
       "  </tbody>\n",
       "</table>\n",
       "<p>1018125 rows × 9 columns</p>\n",
       "</div>"
      ],
      "text/plain": [
       "             uid        asin  \\\n",
       "19513      21072  B09477KHQ3   \n",
       "19514      21073  B0BSRFQYG8   \n",
       "19515      21074  B09N9GVHV9   \n",
       "19516      21075  B0BRYGV7PQ   \n",
       "19517      21076  B0B1JHB28R   \n",
       "...          ...         ...   \n",
       "2429088  2806950  B0045I6SHW   \n",
       "2429089  2806951  B0045I6NZY   \n",
       "2429090  2806952  B003BLON3A   \n",
       "2437153  2818782  B091HG57TP   \n",
       "2437154  2818786  B09F8TFQDM   \n",
       "\n",
       "                                                     title  stars  reviews  \\\n",
       "19513    Personalised Birthday Print Gift \"THE YEAR YOU...    4.5      763   \n",
       "19514    Wax Melts 4 Bars | Build Your Own Box (Choose ...    3.9      117   \n",
       "19515    Personalised Birthday Print Gift \"ON THE DAY/Y...    4.6     1155   \n",
       "19516    Fresh Wax Melts - Laundry Type Wax Melts - Str...    4.5       56   \n",
       "19517    Manta Makes Work Leaving Gifts | I Used to Wor...    4.7      261   \n",
       "...                                                    ...    ...      ...   \n",
       "2429088    Cannondale Men's Bibshort Dart Team Bike Shorts    0.0        0   \n",
       "2429089         Cannondale Men's Baggy Fitness Bike Shorts    0.0        0   \n",
       "2429090             Pearl iZUMi Men's Phase Splice Knicker    4.3        3   \n",
       "2437153  Goodstoworld Boys Girls Tracksuit Bottoms 3D S...    4.2      554   \n",
       "2437154  AIEOE Unisex Baby Snow Trousers Boys Girls Dow...    5.0        1   \n",
       "\n",
       "         price  isBestSeller  boughtInLastMonth  \\\n",
       "19513     7.99         False                900   \n",
       "19514     6.49          True                800   \n",
       "19515     8.99          True                600   \n",
       "19516     4.99          True                500   \n",
       "19517     9.95          True                400   \n",
       "...        ...           ...                ...   \n",
       "2429088  99.67         False                  0   \n",
       "2429089  20.62         False                  0   \n",
       "2429090  59.86         False                  0   \n",
       "2437153  14.99         False                  0   \n",
       "2437154  24.99         False                  0   \n",
       "\n",
       "                                 category  \n",
       "19513    Handmade Home & Kitchen Products  \n",
       "19514    Handmade Home & Kitchen Products  \n",
       "19515    Handmade Home & Kitchen Products  \n",
       "19516    Handmade Home & Kitchen Products  \n",
       "19517    Handmade Home & Kitchen Products  \n",
       "...                                   ...  \n",
       "2429088                 Sports & Outdoors  \n",
       "2429089                 Sports & Outdoors  \n",
       "2429090                 Sports & Outdoors  \n",
       "2437153                 Sports & Outdoors  \n",
       "2437154                 Sports & Outdoors  \n",
       "\n",
       "[1018125 rows x 9 columns]"
      ]
     },
     "execution_count": 168,
     "metadata": {},
     "output_type": "execute_result"
    }
   ],
   "source": [
    "df1_top20 = df1[df1['category'].map(df1['category'].value_counts())>= 15050]\n",
    "df1_top20"
   ]
  },
  {
   "cell_type": "code",
   "execution_count": 169,
   "id": "a27d1e9c",
   "metadata": {
    "collapsed": true
   },
   "outputs": [
    {
     "data": {
      "text/plain": [
       "<Axes: xlabel='price', ylabel='category'>"
      ]
     },
     "execution_count": 169,
     "metadata": {},
     "output_type": "execute_result"
    },
    {
     "data": {
      "image/png": "[encoded data removed]",
      "text/plain": [
       "<Figure size 640x480 with 1 Axes>"
      ]
     },
     "metadata": {},
     "output_type": "display_data"
    }
   ],
   "source": [
    "sns.violinplot(data=df1_top20, x='price', y='category', palette=\"coolwarm\")"
   ]
  },
  {
   "cell_type": "markdown",
   "id": "301bea30",
   "metadata": {},
   "source": [
    "Bar Charts:\n",
    "\n",
    "Create a bar chart comparing the average price of products for the top 10 product categories (based on count).\n",
    "Which product category commands the highest average price? Don't filter here by top categories."
   ]
  },
  {
   "cell_type": "code",
   "execution_count": 196,
   "id": "950f5b97",
   "metadata": {},
   "outputs": [
    {
     "data": {
      "text/plain": [
       "category\n",
       "Sports & Outdoors                         694092\n",
       "Beauty                                     19233\n",
       "Bath & Body                                19050\n",
       "Manicure & Pedicure Products               18904\n",
       "Handmade Clothing, Shoes & Accessories     18811\n",
       "Make-up                                    18718\n",
       "Skin Care                                  18686\n",
       "Hair Care                                  18625\n",
       "Birthday Gifts                             18398\n",
       "Handmade Gifts                             17948\n",
       "Name: count, dtype: int64"
      ]
     },
     "execution_count": 196,
     "metadata": {},
     "output_type": "execute_result"
    }
   ],
   "source": [
    "top10_filter=df1['category'].value_counts().head(10)\n",
    "top10_filter"
   ]
  },
  {
   "cell_type": "code",
   "execution_count": 230,
   "id": "9bf169f4",
   "metadata": {},
   "outputs": [],
   "source": [
    "df1_top10=df1[df1['category'].map(df1['category'].value_counts()) >= 17948] # df for top 10 products"
   ]
  },
  {
   "cell_type": "code",
   "execution_count": 237,
   "id": "4b51943b",
   "metadata": {
    "collapsed": true
   },
   "outputs": [
    {
     "name": "stderr",
     "output_type": "stream",
     "text": [
      "/var/folders/84/gcp9xbms2mj2xtqtdk7w5ckr0000gn/T/ipykernel_80701/4007352536.py:1: SettingWithCopyWarning: \n",
      "A value is trying to be set on a copy of a slice from a DataFrame.\n",
      "Try using .loc[row_indexer,col_indexer] = value instead\n",
      "\n",
      "See the caveats in the documentation: https://pandas.pydata.org/pandas-docs/stable/user_guide/indexing.html#returning-a-view-versus-a-copy\n",
      "  df1_top10['avg_price'] = df1_top10.groupby('category')['price'].transform('mean')\n"
     ]
    },
    {
     "data": {
      "text/html": [
       "<div>\n",
       "<style scoped>\n",
       "    .dataframe tbody tr th:only-of-type {\n",
       "        vertical-align: middle;\n",
       "    }\n",
       "\n",
       "    .dataframe tbody tr th {\n",
       "        vertical-align: top;\n",
       "    }\n",
       "\n",
       "    .dataframe thead th {\n",
       "        text-align: right;\n",
       "    }\n",
       "</style>\n",
       "<table border=\"1\" class=\"dataframe\">\n",
       "  <thead>\n",
       "    <tr style=\"text-align: right;\">\n",
       "      <th></th>\n",
       "      <th>uid</th>\n",
       "      <th>asin</th>\n",
       "      <th>title</th>\n",
       "      <th>stars</th>\n",
       "      <th>reviews</th>\n",
       "      <th>price</th>\n",
       "      <th>isBestSeller</th>\n",
       "      <th>boughtInLastMonth</th>\n",
       "      <th>category</th>\n",
       "      <th>avg_price</th>\n",
       "    </tr>\n",
       "  </thead>\n",
       "  <tbody>\n",
       "    <tr>\n",
       "      <th>82163</th>\n",
       "      <td>89483</td>\n",
       "      <td>B07DLGZ828</td>\n",
       "      <td>Neutrade GoPro 3M Sticky Pads Double Sided Adh...</td>\n",
       "      <td>4.2</td>\n",
       "      <td>3116</td>\n",
       "      <td>6.49</td>\n",
       "      <td>False</td>\n",
       "      <td>0</td>\n",
       "      <td>Sports &amp; Outdoors</td>\n",
       "      <td>25.172065</td>\n",
       "    </tr>\n",
       "    <tr>\n",
       "      <th>82164</th>\n",
       "      <td>89484</td>\n",
       "      <td>B09HGZHXJT</td>\n",
       "      <td>WOLFANG Action Camera 4K 20MP GA100, Waterproo...</td>\n",
       "      <td>4.2</td>\n",
       "      <td>2594</td>\n",
       "      <td>49.99</td>\n",
       "      <td>False</td>\n",
       "      <td>0</td>\n",
       "      <td>Sports &amp; Outdoors</td>\n",
       "      <td>25.172065</td>\n",
       "    </tr>\n",
       "    <tr>\n",
       "      <th>82167</th>\n",
       "      <td>89487</td>\n",
       "      <td>B08LD4VXGL</td>\n",
       "      <td>FitStill 60M/196FT Waterproof Case for Go Pro ...</td>\n",
       "      <td>4.5</td>\n",
       "      <td>9879</td>\n",
       "      <td>16.98</td>\n",
       "      <td>True</td>\n",
       "      <td>0</td>\n",
       "      <td>Sports &amp; Outdoors</td>\n",
       "      <td>25.172065</td>\n",
       "    </tr>\n",
       "    <tr>\n",
       "      <th>82168</th>\n",
       "      <td>89488</td>\n",
       "      <td>B07QDMLMJH</td>\n",
       "      <td>Nextbase Powered Mount Variations For Cameras ...</td>\n",
       "      <td>4.7</td>\n",
       "      <td>1223</td>\n",
       "      <td>19.95</td>\n",
       "      <td>False</td>\n",
       "      <td>0</td>\n",
       "      <td>Sports &amp; Outdoors</td>\n",
       "      <td>25.172065</td>\n",
       "    </tr>\n",
       "    <tr>\n",
       "      <th>82169</th>\n",
       "      <td>89489</td>\n",
       "      <td>B09TQMCNY7</td>\n",
       "      <td>WOLFANG Action Camera GA100 with 64GB microSDX...</td>\n",
       "      <td>4.2</td>\n",
       "      <td>55</td>\n",
       "      <td>49.99</td>\n",
       "      <td>False</td>\n",
       "      <td>0</td>\n",
       "      <td>Sports &amp; Outdoors</td>\n",
       "      <td>25.172065</td>\n",
       "    </tr>\n",
       "    <tr>\n",
       "      <th>...</th>\n",
       "      <td>...</td>\n",
       "      <td>...</td>\n",
       "      <td>...</td>\n",
       "      <td>...</td>\n",
       "      <td>...</td>\n",
       "      <td>...</td>\n",
       "      <td>...</td>\n",
       "      <td>...</td>\n",
       "      <td>...</td>\n",
       "      <td>...</td>\n",
       "    </tr>\n",
       "    <tr>\n",
       "      <th>2429088</th>\n",
       "      <td>2806950</td>\n",
       "      <td>B0045I6SHW</td>\n",
       "      <td>Cannondale Men's Bibshort Dart Team Bike Shorts</td>\n",
       "      <td>0.0</td>\n",
       "      <td>0</td>\n",
       "      <td>99.67</td>\n",
       "      <td>False</td>\n",
       "      <td>0</td>\n",
       "      <td>Sports &amp; Outdoors</td>\n",
       "      <td>25.172065</td>\n",
       "    </tr>\n",
       "    <tr>\n",
       "      <th>2429089</th>\n",
       "      <td>2806951</td>\n",
       "      <td>B0045I6NZY</td>\n",
       "      <td>Cannondale Men's Baggy Fitness Bike Shorts</td>\n",
       "      <td>0.0</td>\n",
       "      <td>0</td>\n",
       "      <td>20.62</td>\n",
       "      <td>False</td>\n",
       "      <td>0</td>\n",
       "      <td>Sports &amp; Outdoors</td>\n",
       "      <td>25.172065</td>\n",
       "    </tr>\n",
       "    <tr>\n",
       "      <th>2429090</th>\n",
       "      <td>2806952</td>\n",
       "      <td>B003BLON3A</td>\n",
       "      <td>Pearl iZUMi Men's Phase Splice Knicker</td>\n",
       "      <td>4.3</td>\n",
       "      <td>3</td>\n",
       "      <td>59.86</td>\n",
       "      <td>False</td>\n",
       "      <td>0</td>\n",
       "      <td>Sports &amp; Outdoors</td>\n",
       "      <td>25.172065</td>\n",
       "    </tr>\n",
       "    <tr>\n",
       "      <th>2437153</th>\n",
       "      <td>2818782</td>\n",
       "      <td>B091HG57TP</td>\n",
       "      <td>Goodstoworld Boys Girls Tracksuit Bottoms 3D S...</td>\n",
       "      <td>4.2</td>\n",
       "      <td>554</td>\n",
       "      <td>14.99</td>\n",
       "      <td>False</td>\n",
       "      <td>0</td>\n",
       "      <td>Sports &amp; Outdoors</td>\n",
       "      <td>25.172065</td>\n",
       "    </tr>\n",
       "    <tr>\n",
       "      <th>2437154</th>\n",
       "      <td>2818786</td>\n",
       "      <td>B09F8TFQDM</td>\n",
       "      <td>AIEOE Unisex Baby Snow Trousers Boys Girls Dow...</td>\n",
       "      <td>5.0</td>\n",
       "      <td>1</td>\n",
       "      <td>24.99</td>\n",
       "      <td>False</td>\n",
       "      <td>0</td>\n",
       "      <td>Sports &amp; Outdoors</td>\n",
       "      <td>25.172065</td>\n",
       "    </tr>\n",
       "  </tbody>\n",
       "</table>\n",
       "<p>862465 rows × 10 columns</p>\n",
       "</div>"
      ],
      "text/plain": [
       "             uid        asin  \\\n",
       "82163      89483  B07DLGZ828   \n",
       "82164      89484  B09HGZHXJT   \n",
       "82167      89487  B08LD4VXGL   \n",
       "82168      89488  B07QDMLMJH   \n",
       "82169      89489  B09TQMCNY7   \n",
       "...          ...         ...   \n",
       "2429088  2806950  B0045I6SHW   \n",
       "2429089  2806951  B0045I6NZY   \n",
       "2429090  2806952  B003BLON3A   \n",
       "2437153  2818782  B091HG57TP   \n",
       "2437154  2818786  B09F8TFQDM   \n",
       "\n",
       "                                                     title  stars  reviews  \\\n",
       "82163    Neutrade GoPro 3M Sticky Pads Double Sided Adh...    4.2     3116   \n",
       "82164    WOLFANG Action Camera 4K 20MP GA100, Waterproo...    4.2     2594   \n",
       "82167    FitStill 60M/196FT Waterproof Case for Go Pro ...    4.5     9879   \n",
       "82168    Nextbase Powered Mount Variations For Cameras ...    4.7     1223   \n",
       "82169    WOLFANG Action Camera GA100 with 64GB microSDX...    4.2       55   \n",
       "...                                                    ...    ...      ...   \n",
       "2429088    Cannondale Men's Bibshort Dart Team Bike Shorts    0.0        0   \n",
       "2429089         Cannondale Men's Baggy Fitness Bike Shorts    0.0        0   \n",
       "2429090             Pearl iZUMi Men's Phase Splice Knicker    4.3        3   \n",
       "2437153  Goodstoworld Boys Girls Tracksuit Bottoms 3D S...    4.2      554   \n",
       "2437154  AIEOE Unisex Baby Snow Trousers Boys Girls Dow...    5.0        1   \n",
       "\n",
       "         price  isBestSeller  boughtInLastMonth           category  avg_price  \n",
       "82163     6.49         False                  0  Sports & Outdoors  25.172065  \n",
       "82164    49.99         False                  0  Sports & Outdoors  25.172065  \n",
       "82167    16.98          True                  0  Sports & Outdoors  25.172065  \n",
       "82168    19.95         False                  0  Sports & Outdoors  25.172065  \n",
       "82169    49.99         False                  0  Sports & Outdoors  25.172065  \n",
       "...        ...           ...                ...                ...        ...  \n",
       "2429088  99.67         False                  0  Sports & Outdoors  25.172065  \n",
       "2429089  20.62         False                  0  Sports & Outdoors  25.172065  \n",
       "2429090  59.86         False                  0  Sports & Outdoors  25.172065  \n",
       "2437153  14.99         False                  0  Sports & Outdoors  25.172065  \n",
       "2437154  24.99         False                  0  Sports & Outdoors  25.172065  \n",
       "\n",
       "[862465 rows x 10 columns]"
      ]
     },
     "execution_count": 237,
     "metadata": {},
     "output_type": "execute_result"
    }
   ],
   "source": [
    "df1_top10['avg_price'] = df1_top10.groupby('category')['price'].transform('mean')\n",
    "df1_top10"
   ]
  },
  {
   "cell_type": "code",
   "execution_count": 247,
   "id": "7beff2f5",
   "metadata": {},
   "outputs": [
    {
     "name": "stdout",
     "output_type": "stream",
     "text": [
      "category\n",
      "Laptops                  1087.99\n",
      "3D Printers              1018.04\n",
      "Desktop PCs               926.82\n",
      "Home Office Furniture     622.14\n",
      "Test & Measurement        559.38\n",
      "Name: price, dtype: float64\n",
      "\n",
      "Which product category commands the highest average price? Laptops\n"
     ]
    }
   ],
   "source": [
    "highest_avg = (df.groupby(['category'])['price'].mean()).round(2).sort_values(ascending=False).head()\n",
    "print(highest_avg)\n",
    "print('\\nWhich product category commands the highest average price? Laptops')"
   ]
  },
  {
   "cell_type": "code",
   "execution_count": 233,
   "id": "a2abd8ef",
   "metadata": {},
   "outputs": [
    {
     "data": {
      "text/plain": [
       "<Axes: xlabel='avg_price', ylabel='category'>"
      ]
     },
     "execution_count": 233,
     "metadata": {},
     "output_type": "execute_result"
    },
    {
     "data": {
      "image/png": "[encoded data removed]",
      "text/plain": [
       "<Figure size 640x480 with 1 Axes>"
      ]
     },
     "metadata": {},
     "output_type": "display_data"
    }
   ],
   "source": [
    "sns.barplot(data=df1_top10, x='avg_price', y='category', palette=\"coolwarm\")"
   ]
  },
  {
   "cell_type": "markdown",
   "id": "b6210dc1",
   "metadata": {},
   "source": [
    "Box Plots:\n",
    "\n",
    "Visualize the distribution of product ratings based on their category using side-by-side box plots. Filter out the top 10 categories based on count for better visualization.\n",
    "Which category tends to receive the highest median rating from customers? Don't filter here by top categories."
   ]
  },
  {
   "cell_type": "code",
   "execution_count": 249,
   "id": "c65f0e20",
   "metadata": {},
   "outputs": [
    {
     "data": {
      "text/plain": [
       "<Axes: xlabel='stars', ylabel='category'>"
      ]
     },
     "execution_count": 249,
     "metadata": {},
     "output_type": "execute_result"
    },
    {
     "data": {
      "image/png": "[encoded data removed]",
      "text/plain": [
       "<Figure size 640x480 with 1 Axes>"
      ]
     },
     "metadata": {},
     "output_type": "display_data"
    }
   ],
   "source": [
    "sns.boxplot(data=df1_top10, x='stars', y='category', palette=\"coolwarm\")"
   ]
  },
  {
   "cell_type": "code",
   "execution_count": 246,
   "id": "1f74db29",
   "metadata": {},
   "outputs": [
    {
     "name": "stdout",
     "output_type": "stream",
     "text": [
      "category\n",
      "Computer Memory         4.7\n",
      "Hobbies                 4.6\n",
      "Beer, Wine & Spirits    4.6\n",
      "Laptop Accessories      4.6\n",
      "Kids' Play Figures      4.6\n",
      "Name: stars, dtype: float64\n",
      "\n",
      "Which category tends to receive the highest median rating from customers? Computer Memory\n"
     ]
    }
   ],
   "source": [
    "highest_med_stars = (df.groupby(['category'])['stars'].median()).round(2).sort_values(ascending=False).head()\n",
    "print(highest_med_stars)\n",
    "print('\\nWhich category tends to receive the highest median rating from customers? Computer Memory')"
   ]
  },
  {
   "cell_type": "markdown",
   "id": "dd75aebb",
   "metadata": {},
   "source": [
    "Part 3: Investigating the Interplay Between Product Prices and Ratings\n",
    "Objective: Analyze how product ratings (stars) correlate with product prices.\n",
    "\n",
    "1. Correlation Coefficients:\n",
    "\n",
    "Calculate the correlation coefficient between price and stars.\n",
    "Is there a significant correlation between product price and its rating?"
   ]
  },
  {
   "cell_type": "code",
   "execution_count": 270,
   "id": "894930fb",
   "metadata": {},
   "outputs": [
    {
     "name": "stdout",
     "output_type": "stream",
     "text": [
      "Pearson correlation: -0.06679697280768393\n"
     ]
    }
   ],
   "source": [
    "# Pearson\n",
    "correlation_p = df1['price'].corr(df1['stars'])\n",
    "print('Pearson correlation:', correlation)"
   ]
  },
  {
   "cell_type": "code",
   "execution_count": 273,
   "id": "4cc171c5",
   "metadata": {},
   "outputs": [
    {
     "name": "stdout",
     "output_type": "stream",
     "text": [
      "Spearman correlation: -0.06679697280768393\n"
     ]
    }
   ],
   "source": [
    "# Spearman\n",
    "correlation_sp = df1['price'].corr(df1['stars'], method='spearman')\n",
    "print('Spearman correlation:', correlation)"
   ]
  },
  {
   "cell_type": "markdown",
   "id": "7b0724e2",
   "metadata": {},
   "source": [
    "Both correlations imply little to no linear/monotonic correlation given that both values are closer to zero"
   ]
  },
  {
   "cell_type": "markdown",
   "id": "5570d6cb",
   "metadata": {},
   "source": [
    "2. Visualizations:\n",
    "\n",
    "Use a scatter plot to visualize the relationship between product rating and price. What patterns can you observe?\n",
    "Use a correlation heatmap to visualize correlations between all numerical variables.\n",
    "Examine if product prices typically follow a normal distribution using a QQ plot."
   ]
  },
  {
   "cell_type": "code",
   "execution_count": 261,
   "id": "fcbafa31",
   "metadata": {},
   "outputs": [
    {
     "data": {
      "text/plain": [
       "<Axes: xlabel='stars', ylabel='price'>"
      ]
     },
     "execution_count": 261,
     "metadata": {},
     "output_type": "execute_result"
    },
    {
     "data": {
      "image/png": "[encoded data removed]",
      "text/plain": [
       "<Figure size 640x480 with 1 Axes>"
      ]
     },
     "metadata": {},
     "output_type": "display_data"
    }
   ],
   "source": [
    "sns.scatterplot(data=df, x='stars', y='price')"
   ]
  },
  {
   "cell_type": "code",
   "execution_count": 266,
   "id": "800b22e8",
   "metadata": {},
   "outputs": [
    {
     "data": {
      "image/png": "[encoded data removed]",
      "text/plain": [
       "<Figure size 1000x1200 with 2 Axes>"
      ]
     },
     "metadata": {},
     "output_type": "display_data"
    }
   ],
   "source": [
    "# for all numerical variables\n",
    "\n",
    "potential_categorical_from_numerical = df.select_dtypes(\"number\").loc[:, df.select_dtypes(\"number\").nunique() < 20]\n",
    "\n",
    "df_numerical = df.select_dtypes(\"number\").drop(columns=potential_categorical_from_numerical.columns)\n",
    "\n",
    "correlation_matrix = df_numerical.corr()\n",
    "\n",
    "# Setting up the matplotlib figure with an appropriate size\n",
    "plt.figure(figsize=(10, 12))\n",
    "\n",
    "# Drawing the heatmap for the numerical columns\n",
    "sns.heatmap(correlation_matrix, annot=True, cmap=\"coolwarm\")\n",
    "\n",
    "plt.title(\"Correlation Heatmap for Selected Numerical Variables\")\n",
    "plt.show()"
   ]
  },
  {
   "cell_type": "code",
   "execution_count": null,
   "id": "3c4bcb2d",
   "metadata": {},
   "outputs": [],
   "source": []
  },
  {
   "cell_type": "code",
   "execution_count": 276,
   "id": "1b39ea86",
   "metadata": {},
   "outputs": [
    {
     "data": {
      "image/png": "[encoded data removed]",
      "text/plain": [
       "<Figure size 600x600 with 2 Axes>"
      ]
     },
     "metadata": {},
     "output_type": "display_data"
    }
   ],
   "source": [
    "## testing\n",
    "\n",
    "correlation_s = df_numerical.corrwith(df['stars'], method='spearman')\n",
    "\n",
    "correlation_s_sorted = correlation_s.sort_values(ascending=False)\n",
    "\n",
    "correlation_s_sorted_top = correlation_s_sorted[abs(correlation_s_sorted) >= 0.5]\n",
    "correlation_s_sorted_top\n",
    "\n",
    "correlation_matrix = df_numerical[correlation_s_sorted_top.index].corr()\n",
    "\n",
    "# Setting up the matplotlib figure with an appropriate size\n",
    "plt.figure(figsize=(6, 6))\n",
    "\n",
    "# Drawing the heatmap for the numerical columns\n",
    "sns.heatmap(correlation_matrix, annot=True, cmap=\"coolwarm\")\n",
    "\n",
    "plt.title(\"Correlation Heatmap for Selected Numerical Variables\")\n",
    "plt.show()"
   ]
  },
  {
   "cell_type": "code",
   "execution_count": 277,
   "id": "7ac7e398",
   "metadata": {},
   "outputs": [
    {
     "data": {
      "image/png": "[encoded data removed]",
      "text/plain": [
       "<Figure size 640x480 with 1 Axes>"
      ]
     },
     "metadata": {},
     "output_type": "display_data"
    }
   ],
   "source": [
    "import statsmodels.api as sm\n",
    "\n",
    "# Generating a Q-Q plot for 'price' to check if its distribution follows a normal distribution\n",
    "sm.qqplot(df['price'], line='s');"
   ]
  },
  {
   "cell_type": "markdown",
   "id": "b96fb5d3",
   "metadata": {},
   "source": [
    "Upper Tail: In the upper tail (right side of the plot), the data points deviate significantly from the red line, suggesting a long tail or skewness to the right. This indicates that there are more extreme high values in 'price' than would be expected in a normal distribution.\n",
    "\n",
    "Central Portion: The central portion of the data points doesn't align perfectly with the line, suggesting possible deviations from normality in the main body of the distribution as well."
   ]
  }
 ],
 "metadata": {
  "kernelspec": {
   "display_name": "Python 3 (ipykernel)",
   "language": "python",
   "name": "python3"
  },
  "language_info": {
   "codemirror_mode": {
    "name": "ipython",
    "version": 3
   },
   "file_extension": ".py",
   "mimetype": "text/x-python",
   "name": "python",
   "nbconvert_exporter": "python",
   "pygments_lexer": "ipython3",
   "version": "3.11.5"
  }
 },
 "nbformat": 4,
 "nbformat_minor": 5
}
